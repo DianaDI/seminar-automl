{
 "cells": [
  {
   "cell_type": "markdown",
   "metadata": {},
   "source": [
    "## Load Dependencies"
   ]
  },
  {
   "cell_type": "code",
   "execution_count": 1,
   "metadata": {},
   "outputs": [
    {
     "name": "stderr",
     "output_type": "stream",
     "text": [
      "/opt/anaconda3/lib/python3.7/site-packages/sklearn/externals/joblib/__init__.py:15: DeprecationWarning: sklearn.externals.joblib is deprecated in 0.21 and will be removed in 0.23. Please import this functionality directly from joblib, which can be installed with: pip install joblib. If this warning is raised when loading pickled models, you may need to re-serialize those models with scikit-learn 0.21+.\n",
      "  warnings.warn(msg, category=DeprecationWarning)\n"
     ]
    }
   ],
   "source": [
    "import pandas as pd\n",
    "import numpy as np\n",
    "\n",
    "from sklearn.model_selection import RandomizedSearchCV, cross_val_score\n",
    "import matplotlib.pyplot as plt\n",
    "import sklearn.gaussian_process as gp\n",
    "from sklearn.datasets import load_wine, make_classification\n",
    "from sklearn.svm import SVC\n",
    "from skopt import gp_minimize, forest_minimize, dummy_minimize, expected_minimum\n",
    "from skopt.space import Real, Integer, Categorical\n",
    "from skopt.utils import use_named_args\n",
    "from skopt.plots import plot_convergence\n",
    "from sklearn.gaussian_process import GaussianProcessRegressor\n",
    "from skopt.plots import plot_evaluations\n",
    "from skopt.plots import plot_objective"
   ]
  },
  {
   "cell_type": "markdown",
   "metadata": {},
   "source": [
    "# Create new Dataset"
   ]
  },
  {
   "cell_type": "code",
   "execution_count": 2,
   "metadata": {
    "collapsed": true
   },
   "outputs": [],
   "source": [
    "#%run python/gp.py\n",
    "#%run python/plotters.py"
   ]
  },
  {
   "cell_type": "code",
   "execution_count": 3,
   "metadata": {
    "collapsed": true
   },
   "outputs": [],
   "source": [
    "data, target = make_classification(n_samples=2500,\n",
    "                                   n_features=45,\n",
    "                                   n_informative=15,\n",
    "                                   n_redundant=5)"
   ]
  },
  {
   "cell_type": "markdown",
   "metadata": {},
   "source": [
    "# Helper Functions"
   ]
  },
  {
   "cell_type": "code",
   "execution_count": 4,
   "metadata": {
    "collapsed": true
   },
   "outputs": [],
   "source": [
    "def sample_loss(params):\n",
    "    return cross_val_score(SVC(C=10 ** params[0], gamma=10 ** params[1], random_state=12345),\n",
    "                           X=data, y=target, scoring='roc_auc', cv=3).mean()"
   ]
  },
  {
   "cell_type": "code",
   "execution_count": 83,
   "metadata": {
    "collapsed": true
   },
   "outputs": [],
   "source": [
    "def plot_intermediate(res,opt):\n",
    "    iteration = len(res.func_vals)\n",
    "    if(iteration >= 10):\n",
    "        plot_evaluations(res)\n",
    "        plt.savefig(\"images/%s/eval_iteration_%d.png\"%(opt,iteration))\n",
    "        plt.close()\n",
    "        plot_objective(res)\n",
    "        plt.savefig(\"images/%s/obj_iteration_%d.png\"%(opt,iteration))\n",
    "        plt.close()\n"
   ]
  },
  {
   "cell_type": "markdown",
   "metadata": {},
   "source": [
    "# Calculate objective function"
   ]
  },
  {
   "cell_type": "code",
   "execution_count": 44,
   "metadata": {
    "collapsed": true
   },
   "outputs": [],
   "source": [
    "lambdas = np.linspace(-5,2,30)\n",
    "gammas = np.linspace(-5,2,30)\n",
    "# We need the cartesian combination of these two vectors\n",
    "param_grid = np.array([[C, gamma] for gamma in gammas for C in lambdas])"
   ]
  },
  {
   "cell_type": "code",
   "execution_count": 45,
   "metadata": {},
   "outputs": [
    {
     "data": {
      "text/plain": [
       "array([ 0.31034483, -2.10344828])"
      ]
     },
     "execution_count": 45,
     "metadata": {},
     "output_type": "execute_result"
    }
   ],
   "source": [
    "real_loss = [sample_loss(params) for params in param_grid]\n",
    "\n",
    "# The maximum is at:\n",
    "param_grid[np.array(real_loss).argmax(), :]"
   ]
  },
  {
   "cell_type": "code",
   "execution_count": 46,
   "metadata": {},
   "outputs": [
    {
     "data": {
      "text/plain": [
       "0.9889811126564529"
      ]
     },
     "execution_count": 46,
     "metadata": {},
     "output_type": "execute_result"
    }
   ],
   "source": [
    "# Best score\n",
    "max_score = sample_loss(param_grid[np.array(real_loss).argmax(), :])\n",
    "max_score"
   ]
  },
  {
   "cell_type": "code",
   "execution_count": 48,
   "metadata": {},
   "outputs": [
    {
     "data": {
      "image/png": "[encoded data removed]",
      "text/plain": [
       "<Figure size 432x288 with 2 Axes>"
      ]
     },
     "metadata": {
      "needs_background": "light"
     },
     "output_type": "display_data"
    }
   ],
   "source": [
    "#from matplotlib import rc\n",
    "#rc('text', usetex=True)\n",
    "\n",
    "C, G = np.meshgrid(lambdas, gammas)\n",
    "plt.figure()\n",
    "cp = plt.contourf(C, G, np.array(real_loss).reshape(C.shape))\n",
    "plt.colorbar(cp)\n",
    "plt.title('Filled contours plot of loss function')\n",
    "plt.xlabel('C')\n",
    "plt.ylabel('gamma')\n",
    "#plt.savefig('/Users/thomashuijskens/Personal/gp-optimisation/figures/real_loss_contour.png', bbox_inches='tight')\n",
    "plt.show()"
   ]
  },
  {
   "cell_type": "markdown",
   "metadata": {},
   "source": [
    "# Set up surrogate models"
   ]
  },
  {
   "cell_type": "code",
   "execution_count": 84,
   "metadata": {
    "collapsed": true
   },
   "outputs": [],
   "source": [
    "# Hyperparameter\n",
    "\n",
    "#dimensions = [Real(0+1e-10,10-1e-10,\"uniform\",name=\"C\"),Real(0+1e-10,10-1e-10,\"uniform\",name=\"gamma\"),Categorical([\"rbf\",\"poly\",\"linear\",\"sigmoid\"],name=\"kernel\")]\n",
    "dimensions = [Real(1e-5,100,\"log-uniform\",name=\"C\"),Real(1e-5,100,\"log-uniform\",name=\"gamma\")]\n",
    "\n",
    "# Objective Function (test-score)\n",
    "@use_named_args(dimensions)\n",
    "def f(**params):\n",
    "    clf = SVC(**params)\n",
    "    return -cross_val_score(clf,X=data, y=target, scoring='roc_auc', cv=3).mean()\n",
    "\n",
    "### Run optimization with different surrogate models:\n",
    "# (1) Gaussian Process\n",
    "# (2) Random Forest\n",
    "# (3) No model (random search)"
   ]
  },
  {
   "cell_type": "markdown",
   "metadata": {},
   "source": [
    "GP Model"
   ]
  },
  {
   "cell_type": "code",
   "execution_count": 85,
   "metadata": {
    "collapsed": true
   },
   "outputs": [],
   "source": [
    "gp_res = gp_minimize(f, dimensions=dimensions, acq_func=\"EI\", n_calls=100, n_jobs=-1, callback = lambda res: plot_intermediate(res,\"gp\"))  "
   ]
  },
  {
   "cell_type": "markdown",
   "metadata": {},
   "source": [
    "Random Forest Model"
   ]
  },
  {
   "cell_type": "code",
   "execution_count": 86,
   "metadata": {
    "collapsed": true
   },
   "outputs": [],
   "source": [
    "rf_res = forest_minimize(f, dimensions=dimensions, acq_func=\"EI\", n_calls=100, n_jobs=-1, callback = lambda res: plot_intermediate(res,\"rf\"))  "
   ]
  },
  {
   "cell_type": "markdown",
   "metadata": {},
   "source": [
    "No Model (random search)"
   ]
  },
  {
   "cell_type": "code",
   "execution_count": 87,
   "metadata": {
    "collapsed": true
   },
   "outputs": [],
   "source": [
    "dummy_res = dummy_minimize(f, dimensions=dimensions, n_calls=100)"
   ]
  },
  {
   "cell_type": "code",
   "execution_count": 88,
   "metadata": {
    "collapsed": true
   },
   "outputs": [],
   "source": [
    "# Zip results\n",
    "gp_results = list(zip(gp_res.x_iters,list(-gp_res.func_vals)))\n",
    "rf_results = list(zip(rf_res.x_iters,list(-rf_res.func_vals)))\n",
    "dummy_results = list(zip(dummy_res.x_iters,list(-dummy_res.func_vals)))"
   ]
  },
  {
   "cell_type": "markdown",
   "metadata": {},
   "source": [
    "# Convergence"
   ]
  },
  {
   "cell_type": "code",
   "execution_count": 89,
   "metadata": {},
   "outputs": [
    {
     "data": {
      "image/png": "[encoded data removed]",
      "text/plain": [
       "<Figure size 432x288 with 1 Axes>"
      ]
     },
     "metadata": {
      "needs_background": "light"
     },
     "output_type": "display_data"
    }
   ],
   "source": [
    "plot = plot_convergence((\"dummy minimize\", dummy_res),\n",
    "                        (\"gp minimize\", gp_res),\n",
    "                        (\"forest minimize('rf')\", rf_res),\n",
    "                        true_minimum=-max_score)\n",
    "\n",
    "plot.legend(loc=\"best\", prop={'size': 6}, numpoints=1)\n",
    "plt.xlim(0,30)\n",
    "plt.ylim(-1,-0.9)\n",
    "plt.show()"
   ]
  },
  {
   "cell_type": "markdown",
   "metadata": {},
   "source": [
    "# Sampling\n",
    "Random Search"
   ]
  },
  {
   "cell_type": "code",
   "execution_count": 90,
   "metadata": {},
   "outputs": [
    {
     "data": {
      "image/png": "[encoded data removed]",
      "text/plain": [
       "<Figure size 432x288 with 2 Axes>"
      ]
     },
     "metadata": {
      "needs_background": "light"
     },
     "output_type": "display_data"
    }
   ],
   "source": [
    "#from matplotlib import rc\n",
    "#rc('text', usetex=True)\n",
    "\n",
    "C, G = np.meshgrid(lambdas, gammas)\n",
    "plt.figure()\n",
    "cp = plt.contourf(C, G, np.array(real_loss).reshape(C.shape))\n",
    "plt.colorbar(cp)\n",
    "plt.title('Filled contours plot of loss function')\n",
    "plt.xlabel('C')\n",
    "plt.ylabel('gamma')\n",
    "#plt.savefig('/Users/thomashuijskens/Personal/gp-optimisation/figures/real_loss_contour.png', bbox_inches='tight')\n",
    "plt.scatter(x=[np.log10(a[0][0]) for a in dummy_results],y=[np.log10(a[0][1]) for a in dummy_results],color=\"white\")\n",
    "plt.show()"
   ]
  },
  {
   "cell_type": "markdown",
   "metadata": {},
   "source": [
    "Random Forest"
   ]
  },
  {
   "cell_type": "code",
   "execution_count": 91,
   "metadata": {},
   "outputs": [
    {
     "data": {
      "image/png": "[encoded data removed]",
      "text/plain": [
       "<Figure size 432x288 with 2 Axes>"
      ]
     },
     "metadata": {
      "needs_background": "light"
     },
     "output_type": "display_data"
    }
   ],
   "source": [
    "#from matplotlib import rc\n",
    "#rc('text', usetex=True)\n",
    "\n",
    "C, G = np.meshgrid(lambdas, gammas)\n",
    "plt.figure()\n",
    "cp = plt.contourf(C, G, np.array(real_loss).reshape(C.shape))\n",
    "plt.colorbar(cp)\n",
    "plt.title('Filled contours plot of loss function')\n",
    "plt.xlabel('C')\n",
    "plt.ylabel('gamma')\n",
    "#plt.savefig('/Users/thomashuijskens/Personal/gp-optimisation/figures/real_loss_contour.png', bbox_inches='tight')\n",
    "plt.scatter(x=[np.log10(a[0][0]) for a in rf_results],y=[np.log10(a[0][1]) for a in rf_results],color=\"white\")\n",
    "plt.show()"
   ]
  },
  {
   "cell_type": "markdown",
   "metadata": {},
   "source": [
    "Gaussian Process"
   ]
  },
  {
   "cell_type": "code",
   "execution_count": 92,
   "metadata": {},
   "outputs": [
    {
     "data": {
      "image/png": "[encoded data removed]",
      "text/plain": [
       "<Figure size 432x288 with 2 Axes>"
      ]
     },
     "metadata": {
      "needs_background": "light"
     },
     "output_type": "display_data"
    }
   ],
   "source": [
    "#from matplotlib import rc\n",
    "#rc('text', usetex=True)\n",
    "\n",
    "C, G = np.meshgrid(lambdas, gammas)\n",
    "plt.figure()\n",
    "cp = plt.contourf(C, G, np.array(real_loss).reshape(C.shape))\n",
    "plt.colorbar(cp)\n",
    "plt.title('Filled contours plot of loss function')\n",
    "plt.xlabel('C')\n",
    "plt.ylabel('gamma')\n",
    "#plt.savefig('/Users/thomashuijskens/Personal/gp-optimisation/figures/real_loss_contour.png', bbox_inches='tight')\n",
    "plt.scatter(x=[np.log10(a[0][0]) for a in gp_results],y=[np.log10(a[0][1]) for a in gp_results],color=\"white\")\n",
    "plt.show()"
   ]
  },
  {
   "cell_type": "code",
   "execution_count": 95,
   "metadata": {
    "collapsed": true
   },
   "outputs": [],
   "source": [
    "# Create a gif from the images\n",
    "import imageio\n",
    "\n",
    "images = []\n",
    "\n",
    "for i in range(10,100):\n",
    "    filename = \"C:/users/kocha/git/untitled folder/images/gp/obj_iteration_%d.png\" % i\n",
    "    images.append(imageio.imread(filename))\n",
    "imageio.mimsave('C:/users/kocha/git/untitled folder/images/objective.gif', images, duration=0.1)\n",
    "\n",
    "images = []\n",
    "\n",
    "for i in range(10,100):\n",
    "    filename = \"C:/users/kocha/git/untitled folder/images/gp/eval_iteration_%d.png\" % i\n",
    "    images.append(imageio.imread(filename))\n",
    "imageio.mimsave('C:/users/kocha/git/untitled folder/images/eval.gif', images, duration=0.1)"
   ]
  },
  {
   "cell_type": "markdown",
   "metadata": {},
   "source": [
    "# GP objective"
   ]
  },
  {
   "cell_type": "markdown",
   "metadata": {},
   "source": [
    "![SegmentLocal](img/eval_gp.gif 'segment')"
   ]
  },
  {
   "cell_type": "markdown",
   "metadata": {},
   "source": [
    "# RF objective\n"
   ]
  },
  {
   "cell_type": "markdown",
   "metadata": {},
   "source": [
    "![SegmentLocal](img/eval_rf.gif \"segment\")"
   ]
  },
  {
   "cell_type": "markdown",
   "metadata": {
    "collapsed": true
   },
   "source": [
    "## Objective RF\n",
    "![SegmentLocal](img/objective_rf.gif 'segment')"
   ]
  },
  {
   "cell_type": "markdown",
   "metadata": {},
   "source": [
    "## Objective GP\n",
    "![SegmentLocal](img/objective_gp.gif 'segment')"
   ]
  }
 ],
 "metadata": {
  "kernelspec": {
   "display_name": "Python 3",
   "language": "python",
   "name": "python3"
  },
  "language_info": {
   "codemirror_mode": {
    "name": "ipython",
    "version": 3
   },
   "file_extension": ".py",
   "mimetype": "text/x-python",
   "name": "python",
   "nbconvert_exporter": "python",
   "pygments_lexer": "ipython3",
   "version": "3.7.4"
  }
 },
 "nbformat": 4,
 "nbformat_minor": 2
}
